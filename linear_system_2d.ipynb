{
 "cells": [
  {
   "cell_type": "code",
   "execution_count": 1,
   "metadata": {},
   "outputs": [],
   "source": [
    "import propagation_methods as propag\n",
    "import grid_generation as grid\n",
    "import bounds_common as bounds\n",
    "import barriers as barriers\n",
    "import probability_mass_computation as proba\n",
    "import plot_methods as plot"
   ]
  },
  {
   "cell_type": "markdown",
   "metadata": {},
   "source": [
    "### Initial state distribution: $x_0 \\sim \\mathcal{N}([3, 3]], \\sigma I)$"
   ]
  },
  {
   "cell_type": "code",
   "execution_count": 2,
   "metadata": {},
   "outputs": [],
   "source": [
    "METHOD = 'linear'\n",
    "\n",
    "A = [[0.84, 0.1],\n",
    "     [0.05, 0.72]]\n",
    "\n",
    "params = [A]"
   ]
  },
  {
   "cell_type": "code",
   "execution_count": 3,
   "metadata": {},
   "outputs": [],
   "source": [
    "#Initial distribution\n",
    "sigma = 0.002\n",
    "\n",
    "mean_initial_state = [2.0, 2.0]\n",
    "cov_initial_state = [[sigma, 0.0],\n",
    "                     [0.0, sigma]]\n",
    "\n",
    "#Noise structure\n",
    "sigma_noise = 0.001\n",
    "\n",
    "mean_noise = [0, 0]\n",
    "cov_noise = [[sigma_noise/2, 0.0],\n",
    "             [0.0, 2*sigma_noise]]\n",
    "\n",
    "#Steps ahead for prediction\n",
    "n_steps_ahead = 10"
   ]
  },
  {
   "cell_type": "code",
   "execution_count": 4,
   "metadata": {},
   "outputs": [
    {
     "data": {
      "text/plain": [
       "0.022360679774997897"
      ]
     },
     "execution_count": 4,
     "metadata": {},
     "output_type": "execute_result"
    }
   ],
   "source": [
    "sigma**0.5"
   ]
  },
  {
   "cell_type": "code",
   "execution_count": 5,
   "metadata": {},
   "outputs": [
    {
     "data": {
      "text/plain": [
       "0.03162277660168379"
      ]
     },
     "execution_count": 5,
     "metadata": {},
     "output_type": "execute_result"
    }
   ],
   "source": [
    "sigma_noise**0.5"
   ]
  },
  {
   "cell_type": "code",
   "execution_count": 6,
   "metadata": {},
   "outputs": [],
   "source": [
    "barrier = barriers.createBarrier([1.0, 0.0], [1.5, 0.5])"
   ]
  },
  {
   "cell_type": "code",
   "execution_count": 7,
   "metadata": {},
   "outputs": [],
   "source": [
    "import matplotlib.pyplot as plt\n",
    "import pandas as pd\n",
    "import numpy as np\n",
    "\n",
    "n_simulations = 10\n",
    "\n",
    "df_mc = pd.DataFrame(columns=np.arange(n_steps_ahead + 1))\n",
    "actual_prob_hitting = np.zeros(n_steps_ahead + 1)\n",
    "\n",
    "for n in range(n_simulations):\n",
    "\n",
    "    evolution = []\n",
    "\n",
    "    state = propag.getInitialState(mean_initial_state, cov_initial_state)\n",
    "    if barriers.verifyIfInsideBarrier(state, barrier):\n",
    "        actual_prob_hitting[0] += 1\n",
    "    evolution.append(state)\n",
    "\n",
    "\n",
    "\n",
    "    for t in range(n_steps_ahead):\n",
    "        state = propag.stateEvolution(state, mean_noise, cov_noise, 1, METHOD, params)\n",
    "        if barriers.verifyIfInsideBarrier(state, barrier):\n",
    "            actual_prob_hitting[t + 1] += 1\n",
    "        evolution.append(state)\n",
    "    \n",
    "    df_mc.loc[len(df_mc)] = evolution\n",
    "\n",
    "actual_prob_hitting = actual_prob_hitting/n_simulations"
   ]
  },
  {
   "cell_type": "code",
   "execution_count": 8,
   "metadata": {},
   "outputs": [
    {
     "data": {
      "text/plain": [
       "array([0. , 0. , 0. , 0. , 0. , 0.1, 0.5, 0.4, 0. , 0. , 0. ])"
      ]
     },
     "execution_count": 8,
     "metadata": {},
     "output_type": "execute_result"
    }
   ],
   "source": [
    "actual_prob_hitting"
   ]
  },
  {
   "cell_type": "code",
   "execution_count": 9,
   "metadata": {},
   "outputs": [
    {
     "data": {
      "image/png": "[encoded data removed]",
      "text/plain": [
       "<Figure size 640x480 with 1 Axes>"
      ]
     },
     "metadata": {},
     "output_type": "display_data"
    }
   ],
   "source": [
    "plot.plotPropagationStepByStep(df_mc, barrier)"
   ]
  },
  {
   "cell_type": "code",
   "execution_count": 10,
   "metadata": {},
   "outputs": [],
   "source": [
    "def adaptRegions(regions):\n",
    "\n",
    "    regions_adapted = []\n",
    "\n",
    "    for region in regions:\n",
    "\n",
    "        a1 = region[0][0]\n",
    "        a2 = region[0][1]\n",
    "\n",
    "        b1 = region[1][0]\n",
    "        b2 = region[1][1]\n",
    "\n",
    "        regions_adapted.append([[a1, b1], [a2, b2]])\n",
    "\n",
    "    return np.array(regions_adapted)"
   ]
  },
  {
   "cell_type": "code",
   "execution_count": 11,
   "metadata": {},
   "outputs": [],
   "source": [
    "#print(div)"
   ]
  },
  {
   "cell_type": "code",
   "execution_count": 12,
   "metadata": {},
   "outputs": [],
   "source": [
    "df = pd.DataFrame(columns=np.arange(n_steps_ahead + 1))\n",
    "prob_hitting = np.zeros(n_steps_ahead + 1)"
   ]
  },
  {
   "cell_type": "code",
   "execution_count": 13,
   "metadata": {},
   "outputs": [],
   "source": [
    "# #T = 0\n",
    "# hat_gmm = ([1.0], [mean_initial_state], cov_initial_state)\n",
    "\n",
    "# regions = grid.createRegions([mean_initial_state[0], cov_initial_state[0][0]**0.5], [mean_initial_state[1], cov_initial_state[1][1]**0.5], 4, 200)\n",
    "# signatures = grid.placeSignatures(regions, 0.5)\n",
    "# weights = proba.computeSignatureProbabilities(regions, [mean_initial_state], cov_initial_state, [1.0])\n",
    "\n",
    "#print(len(regions))\n",
    "\n",
    "#T = 1\n",
    "#old_weights = weights.copy()\n",
    "#hat_gmm = (weights, propag.propagateSignatures(signatures, METHOD, params), cov_noise)\n",
    "\n",
    "#tv_bound = bounds.computeUpperBoundForTV_Modified(signatures, regions, weights, cov_noise, METHOD, params)\n",
    "#print(tv_bound)\n",
    "\n",
    "#weights, signatures, regions = propag.propagateUncertaintyOneStep(0.05, regions, signatures, weights, cov_noise, METHOD, params)\n",
    "\n",
    "#tv_bound = bounds.computeUpperBoundForTV_Modified(signatures, regions, old_weights, cov_noise, METHOD, params)\n",
    "#print(tv_bound)\n",
    "\n",
    "#T = 2\n",
    "#old_weights = weights.copy()\n",
    "#hat_gmm = (weights, propag.propagateSignatures(signatures, METHOD, params), cov_noise)\n",
    "\n",
    "\n",
    "#tv_bound = bounds.computeUpperBoundForTV_Modified(signatures, regions, weights, cov_noise, METHOD, params)\n",
    "#print(tv_bound)\n",
    "\n",
    "#weights, signatures, regions = propag.propagateUncertaintyOneStep(0.015, regions, signatures, weights, cov_noise, METHOD, params)\n",
    "\n",
    "#tv_bound = bounds.computeUpperBoundForTV_Modified(signatures, regions, old_weights, cov_noise, METHOD, params)\n",
    "#print(tv_bound)"
   ]
  },
  {
   "cell_type": "code",
   "execution_count": null,
   "metadata": {},
   "outputs": [],
   "source": []
  },
  {
   "cell_type": "code",
   "execution_count": 14,
   "metadata": {},
   "outputs": [],
   "source": [
    "# tv_bounds = [0]\n",
    "# n_signatures_initial = 90\n",
    "# desired_region_size = 0.002\n",
    "\n",
    "\n",
    "# regions = grid.createRegions([mean_initial_state[0], cov_initial_state[0][0]**0.5], [mean_initial_state[1], cov_initial_state[1][1]**0.5], 4, n_signatures_initial)\n",
    "# signatures = grid.placeSignatures(regions, 0.5)\n",
    "# print(f'Number of regions: {len(signatures)}')"
   ]
  },
  {
   "cell_type": "code",
   "execution_count": 15,
   "metadata": {},
   "outputs": [],
   "source": [
    "# import bounds_common as bounds\n",
    "# import numpy as np\n",
    "# from numpy.linalg import inv\n",
    "# import bounds_linear_system_2d as bounds_linear\n",
    "\n",
    "# print(signatures[0])\n",
    "# print(regions[0])\n",
    "\n",
    "# vertices = grid.getVertices(regions[0])\n",
    "\n",
    "\n",
    "\n",
    "# i = 3\n",
    "# #bounds_linear.insideSumTerm(A, vertices[i], signatures[0], cov_noise, 1)**2\n",
    "# #bounds_linear.insideSumTerm(A, vertices[i], signatures[0], cov_noise, 0)**2 + bounds_linear.insideSumTerm(A, vertices[i], signatures[0], cov_noise, 1)**2\n",
    "\n",
    "# x = np.dot(A, np.array(vertices[i]) - np.array(signatures[0]))\n",
    "# np.sqrt(np.dot(x.T ,np.dot(inv(cov_noise), x)))"
   ]
  },
  {
   "cell_type": "code",
   "execution_count": 16,
   "metadata": {},
   "outputs": [],
   "source": [
    "# import bounds_linear_system_2d as bounds_linear\n",
    "# from scipy import special\n",
    "\n",
    "# #special.erf(bounds_linear.maxValueInsideRegion(A, signatures[0], regions[0], cov_noise)/(2*np.sqrt(2)))\n",
    "# bounds_linear.maxValueInsideRegion(A, signatures[0], regions[0], cov_noise)/(2*np.sqrt(2))"
   ]
  },
  {
   "cell_type": "code",
   "execution_count": 17,
   "metadata": {},
   "outputs": [],
   "source": [
    "#regions"
   ]
  },
  {
   "cell_type": "code",
   "execution_count": 18,
   "metadata": {},
   "outputs": [
    {
     "name": "stdout",
     "output_type": "stream",
     "text": [
      "Number of regions: 139724\n",
      "Function 'computeSignatureProbabilitiesInParallel' executed in 1.2602s\n",
      "TV bound: 0.0028639711916459134\n",
      "Number of regions: 53624\n"
     ]
    }
   ],
   "source": [
    "tv_bounds = [0]\n",
    "# n_signatures_initial = 100\n",
    "desired_region_size = 0.001\n",
    "\n",
    "\n",
    "#regions = grid.createRegions([mean_initial_state[0], cov_initial_state[0][0]**0.5], [mean_initial_state[1], cov_initial_state[1][1]**0.5], 4, n_signatures_initial)\n",
    "n_signatures_subregion = [200, 150, 50, 20, 10]\n",
    "regions = grid.createRegionsAlternative([mean_initial_state[0], cov_initial_state[0][0]**0.5], [mean_initial_state[1], cov_initial_state[1][1]**0.5], n_signatures_subregion)\n",
    "\n",
    "regions_adapted = adaptRegions(regions)\n",
    "\n",
    "signatures = grid.placeSignatures(regions, 0.5)\n",
    "print(f'Number of regions: {len(signatures)}')\n",
    "\n",
    "#double_hat_proba = proba.computeSignatureProbabilitiesInParallel(regions, [mean_initial_state], cov_initial_state, [1.0])\n",
    "double_hat_proba = proba.computeSignatureProbabilitiesInParallel(regions_adapted, np.array([mean_initial_state]), np.array([cov_initial_state[0][0], cov_initial_state[1][1]]), np.array([1.0]))\n",
    "\n",
    "\n",
    "for step in range(n_steps_ahead - 1):\n",
    "\n",
    "    tv_bound = bounds.computeUpperBoundForTVWithMax(signatures, regions, double_hat_proba, cov_noise, METHOD, params)\n",
    "    tv_bounds.append(tv_bound)\n",
    "    print(f'TV bound: {tv_bound}')\n",
    "\n",
    "    means_gmm = propag.propagateSignatures(signatures, METHOD, params)\n",
    "\n",
    "    signatures, regions = propag.updateGrid(desired_region_size, regions, signatures, double_hat_proba, cov_noise, METHOD, params)\n",
    "    print(f'Number of regions: {len(signatures)}')\n",
    "\n",
    "    regions_adapted = adaptRegions(regions)\n",
    "\n",
    "    #double_hat_proba = proba.computeSignatureProbabilitiesInParallel(regions, means_gmm, cov_noise, double_hat_proba)\n",
    "    double_hat_proba = proba.computeSignatureProbabilitiesInParallel(regions_adapted, np.array(means_gmm), np.array([cov_noise[0][0], cov_noise[0][0]]), double_hat_proba)"
   ]
  },
  {
   "cell_type": "code",
   "execution_count": null,
   "metadata": {},
   "outputs": [
    {
     "data": {
      "text/plain": [
       "[0,\n",
       " 0.8549832507031869,\n",
       " 0.01274410871491617,\n",
       " 0.013099221586214042,\n",
       " 0.013217786230164383,\n",
       " 0.013445565963930824,\n",
       " 0.013512781286845023,\n",
       " 0.013614057791436615,\n",
       " 0.013599806186863354,\n",
       " 0.013667365417665984]"
      ]
     },
     "execution_count": 23,
     "metadata": {},
     "output_type": "execute_result"
    }
   ],
   "source": [
    "tv_bounds"
   ]
  },
  {
   "cell_type": "code",
   "execution_count": null,
   "metadata": {},
   "outputs": [],
   "source": [
    "# samples_collection = []\n",
    "# probas_collection = []\n",
    "# tv_bounds = [0]\n",
    "# n_samples = 10000\n",
    "\n",
    "# n_steps = range(n_steps_ahead-1) #There is a minus one because the sampleFromGmm already propagates the signatures for sampling, see equations\n",
    "\n",
    "# desired_region_size = 0.008\n",
    "\n",
    "# n_signatures = 100\n",
    "# print(n_signatures)\n",
    "\n",
    "# gmm = ([1.0], [mean_initial_state], cov_initial_state)\n",
    "\n",
    "\n",
    "# # ##########################################################################################\n",
    "# # proba_barrier = proba.gmmProbaMassInsideHypercube(gmm, barrier)\n",
    "# # probas_collection.append(proba_barrier)\n",
    "# # ##########################################################################################\n",
    "\n",
    "# #print(cov_initial_state[0][0]**0.5)\n",
    "\n",
    "# regions = grid.createRegions([mean_initial_state[0], cov_initial_state[0][0]**0.5], [mean_initial_state[1], cov_initial_state[1][1]**0.5], 4, n_signatures)\n",
    "# signatures = grid.placeSignatures(regions, 0.5)\n",
    "# probas = proba.computeSignatureProbabilitiesInParallel(regions, [mean_initial_state], cov_initial_state, [1.0])\n",
    "\n",
    "# #plot.plot_signatures(signatures, regions, [-2, 8])\n",
    "\n",
    "\n",
    "# #plot.plot_signatures(signatures, regions, [1.0, 7.0])\n",
    "\n",
    "\n",
    "# # ##########################################################################################\n",
    "# # samples = propag.sampleFromGMM(n_samples, probas, signatures, cov_noise, METHOD, params)\n",
    "# # samples_collection.append(samples)\n",
    "\n",
    "# # for s in samples:\n",
    "# #     if barriers.verifyIfInsideBarrier(s, barrier):\n",
    "# #         prob_hitting[1] += 1\n",
    "# # ##########################################################################################\n",
    "\n",
    "\n",
    "# # tv_bound = bounds.computeUpperBoundForTV(signatures, regions, gmm, cov_noise, METHOD, params)\n",
    "# # print(tv_bound)\n",
    "# # tv_bounds.append(tv_bound)\n",
    "\n",
    "# for step in n_steps:\n",
    "\n",
    "#     gmm = (probas, propag.propagateSignatures(signatures, METHOD, params), cov_noise)\n",
    "\n",
    "\n",
    "#     # ##########################################################################################\n",
    "#     # proba_barrier = proba.gmmProbaMassInsideHypercube(gmm, barrier)\n",
    "#     # probas_collection.append(proba_barrier)\n",
    "#     # ##########################################################################################\n",
    "\n",
    "\n",
    "#     probas, signatures, regions = propag.propagateUncertaintyOneStep(desired_region_size, regions, signatures, probas, cov_noise, METHOD, params)\n",
    "\n",
    "\n",
    "#     # ##########################################################################################\n",
    "#     # samples = propag.sampleFromGMM(n_samples, probas, signatures, cov_noise, METHOD, params)\n",
    "#     # samples_collection.append(samples)\n",
    "\n",
    "#     # for s in samples:\n",
    "#     #     if barriers.verifyIfInsideBarrier(s, barrier):\n",
    "#     #         prob_hitting[2+step] += 1\n",
    "#     # ##########################################################################################\n",
    "\n",
    "\n",
    "#     # tv_bound = bounds.computeUpperBoundForTV(signatures, regions, gmm, cov_noise, METHOD, params)\n",
    "#     # print(tv_bound)\n",
    "#     # tv_bounds.append(tv_bound)\n",
    "\n",
    "\n",
    "# gmm = (probas, propag.propagateSignatures(signatures, METHOD, params), cov_noise)\n",
    "\n",
    "# # ##########################################################################################\n",
    "# # proba_barrier = proba.gmmProbaMassInsideHypercube(gmm, barrier)\n",
    "# # probas_collection.append(proba_barrier)\n",
    "# # ##########################################################################################\n",
    "\n",
    "# ##########################################################################################\n",
    "# #samples = propag.sampleFromGMM(1000, probas, signatures, cov_noise, METHOD, params)\n",
    "# #samples_collection.append(samples)\n",
    "# ##########################################################################################\n",
    "\n",
    "\n",
    "# #We are already doing the sampling before, but it should be reactivated if those lines above are deleted\n",
    "# #samples = propag.sampleFromGMM(1000, probas, signatures, cov_noise, METHOD, params)\n",
    "# #plot.plotSamplesFromGMM(samples)\n",
    "\n",
    "\n",
    "# prob_hitting = prob_hitting/n_simulations"
   ]
  }
 ],
 "metadata": {
  "kernelspec": {
   "display_name": "Python 3",
   "language": "python",
   "name": "python3"
  },
  "language_info": {
   "codemirror_mode": {
    "name": "ipython",
    "version": 3
   },
   "file_extension": ".py",
   "mimetype": "text/x-python",
   "name": "python",
   "nbconvert_exporter": "python",
   "pygments_lexer": "ipython3",
   "version": "3.11.4"
  }
 },
 "nbformat": 4,
 "nbformat_minor": 2
}
