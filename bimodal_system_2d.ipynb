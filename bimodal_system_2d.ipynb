{
 "cells": [
  {
   "cell_type": "code",
   "execution_count": 1,
   "metadata": {},
   "outputs": [],
   "source": [
    "import propagation_methods as propag\n",
    "import grid_generation as grid\n",
    "import bounds_common as bounds\n",
    "import barriers as barriers\n",
    "import probability_mass_computation as proba\n",
    "import plot_methods as plot\n",
    "\n",
    "import numpy as np"
   ]
  },
  {
   "cell_type": "markdown",
   "metadata": {},
   "source": [
    "### **The linear bimodal case** \n",
    "\n",
    "In this experiement, $x_0$ follows a GMM with two components, and the system is linear $f(x_t) = Ax_{t}$, where $A$ is known. We assume $\\varepsilon_t$ to be normally distributed, with a fixed stationary covariance, i.e. $\\varepsilon_t \\sim \\mathcal{N}([0, 0], \\Sigma_{\\varepsilon})$.\n",
    "\n",
    "We aim to compute GMM approximations $\\hat{p}(x_t)$ for $10$ time steps, as well as bounds on their TV distances to the true distributions $p(x_t)$.\n",
    "\n",
    "**Numerical note**: The theory related to this experiement does NOT demand that those Gaussians should have uncorrelated components. However, our current code implementation does assume that."
   ]
  },
  {
   "cell_type": "markdown",
   "metadata": {},
   "source": [
    "##### 1) Defining system parameters"
   ]
  },
  {
   "cell_type": "code",
   "execution_count": 2,
   "metadata": {},
   "outputs": [],
   "source": [
    "METHOD = 'linear'\n",
    "\n",
    "A = np.array(\n",
    "          [\n",
    "              [0.84, 0.1],\n",
    "              [0.05, 0.72]\n",
    "          ])\n",
    "\n",
    "params = [A]"
   ]
  },
  {
   "cell_type": "code",
   "execution_count": 3,
   "metadata": {},
   "outputs": [],
   "source": [
    "#Initial distribution\n",
    "sigma = 0.001\n",
    "\n",
    "mean_initial_state_mode1 = np.array([2.8, 2.8])\n",
    "var_initial_state = np.array([sigma, sigma]) #Assumes uncorrelation (this could be relaxed in further upgrades)\n",
    "\n",
    "mean_initial_state_mode2 = np.array([2.4, 2.8])\n",
    "\n",
    "#Noise structure\n",
    "sigma_noise = 0.001\n",
    "\n",
    "mean_noise = [0, 0]\n",
    "var_noise = np.array([sigma_noise/2, 2*sigma_noise]) #Assumes uncorrelation (this could be relaxed in further upgrades)\n",
    "\n",
    "#Steps ahead for prediction\n",
    "n_steps_ahead = 1"
   ]
  },
  {
   "cell_type": "code",
   "execution_count": 4,
   "metadata": {},
   "outputs": [
    {
     "data": {
      "text/plain": [
       "0.03162277660168379"
      ]
     },
     "execution_count": 4,
     "metadata": {},
     "output_type": "execute_result"
    }
   ],
   "source": [
    "sigma**0.5"
   ]
  },
  {
   "cell_type": "code",
   "execution_count": 5,
   "metadata": {},
   "outputs": [],
   "source": [
    "unbounded_region = np.array([[np.inf, np.inf], [np.inf, np.inf]]) #a representation choice for the unbounded region"
   ]
  },
  {
   "cell_type": "code",
   "execution_count": 6,
   "metadata": {},
   "outputs": [],
   "source": [
    "colors = ['Purples', 'Blues', 'Oranges', 'YlOrBr', 'YlOrRd', \n",
    "          'OrRd', 'PuRd', 'RdPu', 'BuPu', 'GnBu', \n",
    "          'PuBu', 'YlGnBu', 'PuBuGn', 'BuGn', 'YlGn']"
   ]
  },
  {
   "cell_type": "markdown",
   "metadata": {},
   "source": [
    "##### 2) Monte Carlo simulation of the system\n",
    "\n",
    "We run a MC simulation for the system above in order to understand its (probabilistic) behavior.\n",
    "\n",
    "Note: We also add a representation for an unsafe set (red square) which will later motivate safety discussions."
   ]
  },
  {
   "cell_type": "code",
   "execution_count": 7,
   "metadata": {},
   "outputs": [],
   "source": [
    "barriers_list = barriers.createBarrier(np.array([[1.0, 0.0], [1.5, 0.5]]))\n",
    "barrier = barriers_list[0]"
   ]
  },
  {
   "cell_type": "code",
   "execution_count": 8,
   "metadata": {},
   "outputs": [
    {
     "name": "stdout",
     "output_type": "stream",
     "text": [
      "Hitting proba: 0.0\n",
      "Hitting proba: 0.0\n"
     ]
    },
    {
     "data": {
      "image/png": "[encoded data removed]",
      "text/plain": [
       "<Figure size 640x480 with 1 Axes>"
      ]
     },
     "metadata": {},
     "output_type": "display_data"
    }
   ],
   "source": [
    "import matplotlib.pyplot as plt\n",
    "from matplotlib.patches import Rectangle\n",
    "\n",
    "n_simulations = 10000\n",
    "mc_hitting_proba = []\n",
    "\n",
    "fig, ax = plt.subplots()\n",
    "\n",
    "rect = Rectangle(barrier[0], barrier[1][0] - barrier[0][0], barrier[1][1] - barrier[0][1], \n",
    "                    edgecolor = 'red', facecolor = 'lightcoral', fill=True, lw=1, alpha=0.7, label = 'Unsafe set')\n",
    "ax.add_patch(rect)\n",
    "\n",
    "for t in range(n_steps_ahead + 1):\n",
    "    if t == 0:\n",
    "        mean_initial = [mean_initial_state_mode1, mean_initial_state_mode2]\n",
    "        states = []\n",
    "        for n in range(n_simulations):\n",
    "            index_normal = np.random.choice(2, p = [0.5, 0.5])\n",
    "            state = propag.getInitialState(mean_initial[index_normal], var_initial_state, 1)\n",
    "            states.append(state)\n",
    "        states = np.array(states)\n",
    "        \n",
    "    else:\n",
    "        states = propag.stateOneStepEvolution(states, mean_noise, var_noise, METHOD, params)\n",
    "    \n",
    "    #Plot samples\n",
    "    plt.hist2d(states[:, 0], states[:, 1], bins=100, cmap=colors[t], alpha=0.8, cmin=0.1)\n",
    "\n",
    "    #Compute hitting probability\n",
    "    hitting_proba = barriers.hittingProbabilityMC(states, barrier)\n",
    "    mc_hitting_proba.append(hitting_proba)\n",
    "\n",
    "plt.legend(loc='lower right')\n",
    "\n",
    "plt.xlim(0.8, 3.0)\n",
    "plt.ylim(0, 3)\n",
    "plt.xlabel('State[0]')\n",
    "plt.ylabel('State[1]')\n",
    "plt.grid(True)\n",
    "plt.show()"
   ]
  },
  {
   "cell_type": "code",
   "execution_count": 9,
   "metadata": {},
   "outputs": [],
   "source": [
    "#Simulation settings\n",
    "type_partition = 'unequally_linear'  #Options: unequally_linear or equally\n",
    "tv_bounds = [0.0]\n",
    "gmm_hitting_proba = [0.0]\n",
    "n_partitions = [200, 200] #NOT BEING USED FOR THE UNEQUALLY LINEAR, SEE HACKING IN THE GRID FILE\n",
    "n_sampling_gmm = 5000\n",
    "\n",
    "vertice_lower_1 = [mean_initial_state_mode1[0] - 4*var_initial_state[0]**0.5, mean_initial_state_mode1[1] - 4*var_initial_state[1]**0.5]\n",
    "vertice_upper_1 = [mean_initial_state_mode1[0] + 4*var_initial_state[0]**0.5, mean_initial_state_mode1[1] + 4*var_initial_state[1]**0.5]\n",
    "\n",
    "vertice_lower_2 = [mean_initial_state_mode2[0] - 4*var_initial_state[0]**0.5, mean_initial_state_mode2[1] - 4*var_initial_state[1]**0.5]\n",
    "vertice_upper_2 = [mean_initial_state_mode2[0] + 4*var_initial_state[0]**0.5, mean_initial_state_mode2[1] + 4*var_initial_state[1]**0.5]"
   ]
  },
  {
   "cell_type": "code",
   "execution_count": 10,
   "metadata": {},
   "outputs": [
    {
     "name": "stdout",
     "output_type": "stream",
     "text": [
      "Number of signatures: 167042\n",
      "Function 'computeSignatureProbabilitiesInParallel' executed in 1.6190s\n",
      "TV bound at propag step: 0.0056579256607744086\n",
      "0.0\n",
      "Number of signatures: 167042\n"
     ]
    }
   ],
   "source": [
    "fig, ax = plt.subplots()\n",
    "\n",
    "for t in range(n_steps_ahead + 1):\n",
    "    if t == 0:\n",
    "        hpr_1 = np.array([vertice_lower_1, vertice_upper_1])\n",
    "        hpr_2 = np.array([vertice_lower_2, vertice_upper_2])\n",
    "        outer_signature = grid.compute_outer_point([hpr_1, hpr_2], 0.5)\n",
    "\n",
    "        hpr_partition_1 = grid.createRegionPartitions(hpr_1, n_partitions, type_partition)\n",
    "        hpr_partition_2 = grid.createRegionPartitions(hpr_2, n_partitions, type_partition)\n",
    "\n",
    "        regions = np.vstack((hpr_partition_1, hpr_partition_2))\n",
    "\n",
    "        signatures = grid.placeSignatures(regions)\n",
    "        double_hat_proba = proba.computeSignatureProbabilitiesInParallel(regions, np.array([mean_initial_state_mode1, mean_initial_state_mode2]), var_initial_state, np.array([0.5, 0.5]))\n",
    "        regions, signatures = grid.addUnboundedRepresentations(regions, unbounded_region, signatures, outer_signature)\n",
    "    \n",
    "    else:\n",
    "\n",
    "        tv_bound = bounds.computeUpperBoundForTVWithMax(signatures, regions, double_hat_proba, var_noise, METHOD, params)\n",
    "        tv_bounds.append(tv_bound)\n",
    "\n",
    "        means_gmm = propag.propagateSignatures(signatures, METHOD, params)\n",
    "        samples = propag.sampleFromGMM(n_sampling_gmm, double_hat_proba, means_gmm, var_noise)\n",
    "\n",
    "        #Compute hitting probability\n",
    "        proba_barrier = proba.gmmProbabilityMassInsideRegion(double_hat_proba, means_gmm, var_noise, barrier)\n",
    "        gmm_hitting_proba.append(proba_barrier)\n",
    "\n",
    "        plt.hist2d(samples[:, 0], samples[:, 1], bins=100, cmap=colors[t], alpha=0.8, cmin=0.1)\n",
    "\n",
    "        signatures, regions, outer_signature = grid.updateGridBiModalSimplification(samples, n_partitions, type_partition, t) #TODO: change this to K-means\n",
    "        \n",
    "        double_hat_proba = proba.computeSignatureProbabilitiesInParallel(regions, means_gmm, var_noise, double_hat_proba)\n",
    "        regions, signatures = grid.addUnboundedRepresentations(regions, unbounded_region, signatures, outer_signature)\n",
    "\n",
    "\n",
    "\n",
    "rect = Rectangle(barrier[0], barrier[1][0] - barrier[0][0], barrier[1][1] - barrier[0][1], \n",
    "                    edgecolor = 'red', facecolor = 'lightcoral', fill=True, lw=1, alpha=0.7, label = 'Unsafe set')\n",
    "ax.add_patch(rect)\n",
    "\n",
    "plt.legend(loc='lower right')\n",
    "\n",
    "plt.xlim(0.8, 3)\n",
    "plt.ylim(0, 3)\n",
    "plt.xlabel('State[0]')\n",
    "plt.ylabel('State[1]')\n",
    "plt.grid(True)\n",
    "plt.show()"
   ]
  },
  {
   "cell_type": "code",
   "execution_count": null,
   "metadata": {},
   "outputs": [],
   "source": []
  },
  {
   "cell_type": "code",
   "execution_count": null,
   "metadata": {},
   "outputs": [],
   "source": []
  },
  {
   "cell_type": "markdown",
   "metadata": {},
   "source": [
    "##### Auxiliary"
   ]
  },
  {
   "cell_type": "code",
   "execution_count": null,
   "metadata": {},
   "outputs": [],
   "source": []
  }
 ],
 "metadata": {
  "kernelspec": {
   "display_name": "Python 3",
   "language": "python",
   "name": "python3"
  },
  "language_info": {
   "codemirror_mode": {
    "name": "ipython",
    "version": 3
   },
   "file_extension": ".py",
   "mimetype": "text/x-python",
   "name": "python",
   "nbconvert_exporter": "python",
   "pygments_lexer": "ipython3",
   "version": "3.11.4"
  }
 },
 "nbformat": 4,
 "nbformat_minor": 2
}
